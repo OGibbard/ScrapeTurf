{
 "cells": [
  {
   "cell_type": "code",
   "execution_count": 1,
   "metadata": {
    "tags": []
   },
   "outputs": [],
   "source": [
    "from selenium import webdriver\n",
    "from selenium.webdriver.common.by import By\n",
    "import time\n",
    "from tabulate import tabulate\n",
    "import datetime"
   ]
  },
  {
   "cell_type": "code",
   "execution_count": 2,
   "id": "d58693e4",
   "metadata": {},
   "outputs": [
    {
     "name": "stdout",
     "output_type": "stream",
     "text": [
      "2024-08-21\n"
     ]
    }
   ],
   "source": [
    "current_date = datetime.date.today()\n",
    "formatted_date = current_date.strftime(\"%Y-%m-%d\")\n",
    "\n",
    "print(formatted_date)"
   ]
  },
  {
   "cell_type": "code",
   "execution_count": 3,
   "id": "8d086744",
   "metadata": {},
   "outputs": [
    {
     "name": "stdout",
     "output_type": "stream",
     "text": [
      "['10', '50', '100', '500']\n"
     ]
    }
   ],
   "source": [
    "with open('quantities.txt', \"r\") as file:\n",
    "    qtys = file.readlines()\n",
    "    qtys = [qty.strip() for qty in qtys]\n",
    "\n",
    "print(qtys)"
   ]
  },
  {
   "cell_type": "code",
   "execution_count": 4,
   "id": "6123bfb8",
   "metadata": {},
   "outputs": [
    {
     "name": "stdout",
     "output_type": "stream",
     "text": [
      "[['Oundle', 'PE8 4BX'], ['Edinburgh', 'EH7 5TS']]\n"
     ]
    }
   ],
   "source": [
    "with open('postcodes.txt', \"r\") as file:\n",
    "    postcodes = file.readlines()\n",
    "    postcodes = [postcode.strip().split(':') for postcode in postcodes]\n",
    "\n",
    "print(postcodes)"
   ]
  },
  {
   "cell_type": "code",
   "execution_count": 5,
   "id": "d6e8bb94",
   "metadata": {},
   "outputs": [],
   "source": [
    "qtys = [10, 50, 100, 500]\n",
    "postcodes = [['Oundle','PE8 4BX'], ['Edinburgh','EH7 5TS']]"
   ]
  },
  {
   "cell_type": "code",
   "execution_count": 18,
   "id": "8ed6877c",
   "metadata": {},
   "outputs": [],
   "source": [
    "link = 'https://www.onlineturf.co.uk/products/turf/budget'\n",
    "driver = webdriver.Firefox()\n",
    "driver.get(link)"
   ]
  },
  {
   "cell_type": "code",
   "execution_count": 30,
   "id": "d5e68510",
   "metadata": {},
   "outputs": [],
   "source": [
    "qty_input = driver.find_element(By.ID, \"qty\")\n",
    "postcode_input = driver.find_element(By.ID, \"postcode\")\n",
    "calculate_button = driver.find_element(By.CLASS_NAME, \"u-full-width-mobile\")"
   ]
  },
  {
   "cell_type": "code",
   "execution_count": 37,
   "id": "41bb0930",
   "metadata": {},
   "outputs": [],
   "source": [
    "qty_input.clear()\n",
    "postcode_input.clear()\n",
    "qty_input.send_keys(qtys[0])\n",
    "postcode_input.send_keys(postcodes[0][1])\n",
    "calculate_button.click()"
   ]
  },
  {
   "cell_type": "code",
   "execution_count": 39,
   "id": "1289e720",
   "metadata": {},
   "outputs": [],
   "source": [
    "calculate_button = driver.find_element(By.XPATH, \"//button[@type='submit']\")\n",
    "calculate_button.click()"
   ]
  },
  {
   "cell_type": "code",
   "execution_count": 17,
   "id": "35b6b6eb",
   "metadata": {},
   "outputs": [
    {
     "ename": "StaleElementReferenceException",
     "evalue": "Message: The element reference of <input id=\"postcode\" class=\"u-full-width\" name=\"postcode\" type=\"text\"> is stale; either the element is no longer attached to the DOM, it is not in the current frame context, or the document has been refreshed; For documentation on this error, please visit: https://www.selenium.dev/documentation/webdriver/troubleshooting/errors#stale-element-reference-exception\nStacktrace:\nWebDriverError@chrome://remote/content/shared/webdriver/Errors.jsm:188:5\nStaleElementReferenceError@chrome://remote/content/shared/webdriver/Errors.jsm:469:5\nelement.resolveElement@chrome://remote/content/marionette/element.js:691:11\nevaluate.fromJSON@chrome://remote/content/marionette/evaluate.js:262:31\nevaluate.fromJSON@chrome://remote/content/marionette/evaluate.js:270:29\nreceiveMessage@chrome://remote/content/marionette/actors/MarionetteCommandsChild.jsm:81:34\n",
     "output_type": "error",
     "traceback": [
      "\u001b[1;31m---------------------------------------------------------------------------\u001b[0m",
      "\u001b[1;31mStaleElementReferenceException\u001b[0m            Traceback (most recent call last)",
      "Cell \u001b[1;32mIn[17], line 7\u001b[0m\n\u001b[0;32m      4\u001b[0m prices\u001b[38;5;241m=\u001b[39m[postcode[\u001b[38;5;241m0\u001b[39m]]\n\u001b[0;32m      5\u001b[0m \u001b[38;5;28;01mfor\u001b[39;00m qty \u001b[38;5;129;01min\u001b[39;00m qtys:\n\u001b[1;32m----> 7\u001b[0m     \u001b[43mpostcode_input\u001b[49m\u001b[38;5;241;43m.\u001b[39;49m\u001b[43mclear\u001b[49m\u001b[43m(\u001b[49m\u001b[43m)\u001b[49m\n\u001b[0;32m      9\u001b[0m     qty_input\u001b[38;5;241m.\u001b[39msend_keys(qty)\n\u001b[0;32m     10\u001b[0m     postcode_input\u001b[38;5;241m.\u001b[39msend_keys(postcode[\u001b[38;5;241m1\u001b[39m])\n",
      "File \u001b[1;32mc:\\Users\\omtg\\AppData\\Local\\Programs\\Python\\Python311\\Lib\\site-packages\\selenium\\webdriver\\remote\\webelement.py:117\u001b[0m, in \u001b[0;36mWebElement.clear\u001b[1;34m(self)\u001b[0m\n\u001b[0;32m    115\u001b[0m \u001b[38;5;28;01mdef\u001b[39;00m \u001b[38;5;21mclear\u001b[39m(\u001b[38;5;28mself\u001b[39m) \u001b[38;5;241m-\u001b[39m\u001b[38;5;241m>\u001b[39m \u001b[38;5;28;01mNone\u001b[39;00m:\n\u001b[0;32m    116\u001b[0m \u001b[38;5;250m    \u001b[39m\u001b[38;5;124;03m\"\"\"Clears the text if it's a text entry element.\"\"\"\u001b[39;00m\n\u001b[1;32m--> 117\u001b[0m     \u001b[38;5;28;43mself\u001b[39;49m\u001b[38;5;241;43m.\u001b[39;49m\u001b[43m_execute\u001b[49m\u001b[43m(\u001b[49m\u001b[43mCommand\u001b[49m\u001b[38;5;241;43m.\u001b[39;49m\u001b[43mCLEAR_ELEMENT\u001b[49m\u001b[43m)\u001b[49m\n",
      "File \u001b[1;32mc:\\Users\\omtg\\AppData\\Local\\Programs\\Python\\Python311\\Lib\\site-packages\\selenium\\webdriver\\remote\\webelement.py:395\u001b[0m, in \u001b[0;36mWebElement._execute\u001b[1;34m(self, command, params)\u001b[0m\n\u001b[0;32m    393\u001b[0m     params \u001b[38;5;241m=\u001b[39m {}\n\u001b[0;32m    394\u001b[0m params[\u001b[38;5;124m\"\u001b[39m\u001b[38;5;124mid\u001b[39m\u001b[38;5;124m\"\u001b[39m] \u001b[38;5;241m=\u001b[39m \u001b[38;5;28mself\u001b[39m\u001b[38;5;241m.\u001b[39m_id\n\u001b[1;32m--> 395\u001b[0m \u001b[38;5;28;01mreturn\u001b[39;00m \u001b[38;5;28;43mself\u001b[39;49m\u001b[38;5;241;43m.\u001b[39;49m\u001b[43m_parent\u001b[49m\u001b[38;5;241;43m.\u001b[39;49m\u001b[43mexecute\u001b[49m\u001b[43m(\u001b[49m\u001b[43mcommand\u001b[49m\u001b[43m,\u001b[49m\u001b[43m \u001b[49m\u001b[43mparams\u001b[49m\u001b[43m)\u001b[49m\n",
      "File \u001b[1;32mc:\\Users\\omtg\\AppData\\Local\\Programs\\Python\\Python311\\Lib\\site-packages\\selenium\\webdriver\\remote\\webdriver.py:347\u001b[0m, in \u001b[0;36mWebDriver.execute\u001b[1;34m(self, driver_command, params)\u001b[0m\n\u001b[0;32m    345\u001b[0m response \u001b[38;5;241m=\u001b[39m \u001b[38;5;28mself\u001b[39m\u001b[38;5;241m.\u001b[39mcommand_executor\u001b[38;5;241m.\u001b[39mexecute(driver_command, params)\n\u001b[0;32m    346\u001b[0m \u001b[38;5;28;01mif\u001b[39;00m response:\n\u001b[1;32m--> 347\u001b[0m     \u001b[38;5;28;43mself\u001b[39;49m\u001b[38;5;241;43m.\u001b[39;49m\u001b[43merror_handler\u001b[49m\u001b[38;5;241;43m.\u001b[39;49m\u001b[43mcheck_response\u001b[49m\u001b[43m(\u001b[49m\u001b[43mresponse\u001b[49m\u001b[43m)\u001b[49m\n\u001b[0;32m    348\u001b[0m     response[\u001b[38;5;124m\"\u001b[39m\u001b[38;5;124mvalue\u001b[39m\u001b[38;5;124m\"\u001b[39m] \u001b[38;5;241m=\u001b[39m \u001b[38;5;28mself\u001b[39m\u001b[38;5;241m.\u001b[39m_unwrap_value(response\u001b[38;5;241m.\u001b[39mget(\u001b[38;5;124m\"\u001b[39m\u001b[38;5;124mvalue\u001b[39m\u001b[38;5;124m\"\u001b[39m, \u001b[38;5;28;01mNone\u001b[39;00m))\n\u001b[0;32m    349\u001b[0m     \u001b[38;5;28;01mreturn\u001b[39;00m response\n",
      "File \u001b[1;32mc:\\Users\\omtg\\AppData\\Local\\Programs\\Python\\Python311\\Lib\\site-packages\\selenium\\webdriver\\remote\\errorhandler.py:229\u001b[0m, in \u001b[0;36mErrorHandler.check_response\u001b[1;34m(self, response)\u001b[0m\n\u001b[0;32m    227\u001b[0m         alert_text \u001b[38;5;241m=\u001b[39m value[\u001b[38;5;124m\"\u001b[39m\u001b[38;5;124malert\u001b[39m\u001b[38;5;124m\"\u001b[39m]\u001b[38;5;241m.\u001b[39mget(\u001b[38;5;124m\"\u001b[39m\u001b[38;5;124mtext\u001b[39m\u001b[38;5;124m\"\u001b[39m)\n\u001b[0;32m    228\u001b[0m     \u001b[38;5;28;01mraise\u001b[39;00m exception_class(message, screen, stacktrace, alert_text)  \u001b[38;5;66;03m# type: ignore[call-arg]  # mypy is not smart enough here\u001b[39;00m\n\u001b[1;32m--> 229\u001b[0m \u001b[38;5;28;01mraise\u001b[39;00m exception_class(message, screen, stacktrace)\n",
      "\u001b[1;31mStaleElementReferenceException\u001b[0m: Message: The element reference of <input id=\"postcode\" class=\"u-full-width\" name=\"postcode\" type=\"text\"> is stale; either the element is no longer attached to the DOM, it is not in the current frame context, or the document has been refreshed; For documentation on this error, please visit: https://www.selenium.dev/documentation/webdriver/troubleshooting/errors#stale-element-reference-exception\nStacktrace:\nWebDriverError@chrome://remote/content/shared/webdriver/Errors.jsm:188:5\nStaleElementReferenceError@chrome://remote/content/shared/webdriver/Errors.jsm:469:5\nelement.resolveElement@chrome://remote/content/marionette/element.js:691:11\nevaluate.fromJSON@chrome://remote/content/marionette/evaluate.js:262:31\nevaluate.fromJSON@chrome://remote/content/marionette/evaluate.js:270:29\nreceiveMessage@chrome://remote/content/marionette/actors/MarionetteCommandsChild.jsm:81:34\n"
     ]
    }
   ],
   "source": [
    "budgetPrices = []\n",
    "\n",
    "for postcode in postcodes:\n",
    "    prices=[postcode[0]]\n",
    "    for qty in qtys:\n",
    "\n",
    "        qty_input.send_keys(qty)\n",
    "        postcode_input.send_keys(postcode[1])\n",
    "\n",
    "        calculate_button.click()\n",
    "\n",
    "        time.sleep(0.5)\n",
    "\n",
    "        total = driver.find_element(By.XPATH, \"//td[@data-id='total']\")\n",
    "        prices.append(total.text)\n",
    "    budgetPrices.append(prices)"
   ]
  },
  {
   "cell_type": "code",
   "execution_count": 7,
   "id": "43d2f9ae",
   "metadata": {},
   "outputs": [
    {
     "ename": "StaleElementReferenceException",
     "evalue": "Message: The element reference of <input id=\"qty\" class=\"u-full-width radius-left\" name=\"qty\" type=\"number\"> is stale; either the element is no longer attached to the DOM, it is not in the current frame context, or the document has been refreshed; For documentation on this error, please visit: https://www.selenium.dev/documentation/webdriver/troubleshooting/errors#stale-element-reference-exception\nStacktrace:\nWebDriverError@chrome://remote/content/shared/webdriver/Errors.jsm:188:5\nStaleElementReferenceError@chrome://remote/content/shared/webdriver/Errors.jsm:469:5\nelement.resolveElement@chrome://remote/content/marionette/element.js:691:11\nevaluate.fromJSON@chrome://remote/content/marionette/evaluate.js:262:31\nevaluate.fromJSON@chrome://remote/content/marionette/evaluate.js:270:29\nreceiveMessage@chrome://remote/content/marionette/actors/MarionetteCommandsChild.jsm:81:34\n",
     "output_type": "error",
     "traceback": [
      "\u001b[1;31m---------------------------------------------------------------------------\u001b[0m",
      "\u001b[1;31mStaleElementReferenceException\u001b[0m            Traceback (most recent call last)",
      "Cell \u001b[1;32mIn[7], line 15\u001b[0m\n\u001b[0;32m     12\u001b[0m prices\u001b[38;5;241m=\u001b[39m[postcode[\u001b[38;5;241m0\u001b[39m]]\n\u001b[0;32m     13\u001b[0m \u001b[38;5;28;01mfor\u001b[39;00m qty \u001b[38;5;129;01min\u001b[39;00m qtys:\n\u001b[1;32m---> 15\u001b[0m     \u001b[43mqty_input\u001b[49m\u001b[38;5;241;43m.\u001b[39;49m\u001b[43mclear\u001b[49m\u001b[43m(\u001b[49m\u001b[43m)\u001b[49m\n\u001b[0;32m     16\u001b[0m     postcode_input\u001b[38;5;241m.\u001b[39mclear()\n\u001b[0;32m     18\u001b[0m     qty_input\u001b[38;5;241m.\u001b[39msend_keys(qty)\n",
      "File \u001b[1;32mc:\\Users\\omtg\\AppData\\Local\\Programs\\Python\\Python311\\Lib\\site-packages\\selenium\\webdriver\\remote\\webelement.py:117\u001b[0m, in \u001b[0;36mWebElement.clear\u001b[1;34m(self)\u001b[0m\n\u001b[0;32m    115\u001b[0m \u001b[38;5;28;01mdef\u001b[39;00m \u001b[38;5;21mclear\u001b[39m(\u001b[38;5;28mself\u001b[39m) \u001b[38;5;241m-\u001b[39m\u001b[38;5;241m>\u001b[39m \u001b[38;5;28;01mNone\u001b[39;00m:\n\u001b[0;32m    116\u001b[0m \u001b[38;5;250m    \u001b[39m\u001b[38;5;124;03m\"\"\"Clears the text if it's a text entry element.\"\"\"\u001b[39;00m\n\u001b[1;32m--> 117\u001b[0m     \u001b[38;5;28;43mself\u001b[39;49m\u001b[38;5;241;43m.\u001b[39;49m\u001b[43m_execute\u001b[49m\u001b[43m(\u001b[49m\u001b[43mCommand\u001b[49m\u001b[38;5;241;43m.\u001b[39;49m\u001b[43mCLEAR_ELEMENT\u001b[49m\u001b[43m)\u001b[49m\n",
      "File \u001b[1;32mc:\\Users\\omtg\\AppData\\Local\\Programs\\Python\\Python311\\Lib\\site-packages\\selenium\\webdriver\\remote\\webelement.py:395\u001b[0m, in \u001b[0;36mWebElement._execute\u001b[1;34m(self, command, params)\u001b[0m\n\u001b[0;32m    393\u001b[0m     params \u001b[38;5;241m=\u001b[39m {}\n\u001b[0;32m    394\u001b[0m params[\u001b[38;5;124m\"\u001b[39m\u001b[38;5;124mid\u001b[39m\u001b[38;5;124m\"\u001b[39m] \u001b[38;5;241m=\u001b[39m \u001b[38;5;28mself\u001b[39m\u001b[38;5;241m.\u001b[39m_id\n\u001b[1;32m--> 395\u001b[0m \u001b[38;5;28;01mreturn\u001b[39;00m \u001b[38;5;28;43mself\u001b[39;49m\u001b[38;5;241;43m.\u001b[39;49m\u001b[43m_parent\u001b[49m\u001b[38;5;241;43m.\u001b[39;49m\u001b[43mexecute\u001b[49m\u001b[43m(\u001b[49m\u001b[43mcommand\u001b[49m\u001b[43m,\u001b[49m\u001b[43m \u001b[49m\u001b[43mparams\u001b[49m\u001b[43m)\u001b[49m\n",
      "File \u001b[1;32mc:\\Users\\omtg\\AppData\\Local\\Programs\\Python\\Python311\\Lib\\site-packages\\selenium\\webdriver\\remote\\webdriver.py:347\u001b[0m, in \u001b[0;36mWebDriver.execute\u001b[1;34m(self, driver_command, params)\u001b[0m\n\u001b[0;32m    345\u001b[0m response \u001b[38;5;241m=\u001b[39m \u001b[38;5;28mself\u001b[39m\u001b[38;5;241m.\u001b[39mcommand_executor\u001b[38;5;241m.\u001b[39mexecute(driver_command, params)\n\u001b[0;32m    346\u001b[0m \u001b[38;5;28;01mif\u001b[39;00m response:\n\u001b[1;32m--> 347\u001b[0m     \u001b[38;5;28;43mself\u001b[39;49m\u001b[38;5;241;43m.\u001b[39;49m\u001b[43merror_handler\u001b[49m\u001b[38;5;241;43m.\u001b[39;49m\u001b[43mcheck_response\u001b[49m\u001b[43m(\u001b[49m\u001b[43mresponse\u001b[49m\u001b[43m)\u001b[49m\n\u001b[0;32m    348\u001b[0m     response[\u001b[38;5;124m\"\u001b[39m\u001b[38;5;124mvalue\u001b[39m\u001b[38;5;124m\"\u001b[39m] \u001b[38;5;241m=\u001b[39m \u001b[38;5;28mself\u001b[39m\u001b[38;5;241m.\u001b[39m_unwrap_value(response\u001b[38;5;241m.\u001b[39mget(\u001b[38;5;124m\"\u001b[39m\u001b[38;5;124mvalue\u001b[39m\u001b[38;5;124m\"\u001b[39m, \u001b[38;5;28;01mNone\u001b[39;00m))\n\u001b[0;32m    349\u001b[0m     \u001b[38;5;28;01mreturn\u001b[39;00m response\n",
      "File \u001b[1;32mc:\\Users\\omtg\\AppData\\Local\\Programs\\Python\\Python311\\Lib\\site-packages\\selenium\\webdriver\\remote\\errorhandler.py:229\u001b[0m, in \u001b[0;36mErrorHandler.check_response\u001b[1;34m(self, response)\u001b[0m\n\u001b[0;32m    227\u001b[0m         alert_text \u001b[38;5;241m=\u001b[39m value[\u001b[38;5;124m\"\u001b[39m\u001b[38;5;124malert\u001b[39m\u001b[38;5;124m\"\u001b[39m]\u001b[38;5;241m.\u001b[39mget(\u001b[38;5;124m\"\u001b[39m\u001b[38;5;124mtext\u001b[39m\u001b[38;5;124m\"\u001b[39m)\n\u001b[0;32m    228\u001b[0m     \u001b[38;5;28;01mraise\u001b[39;00m exception_class(message, screen, stacktrace, alert_text)  \u001b[38;5;66;03m# type: ignore[call-arg]  # mypy is not smart enough here\u001b[39;00m\n\u001b[1;32m--> 229\u001b[0m \u001b[38;5;28;01mraise\u001b[39;00m exception_class(message, screen, stacktrace)\n",
      "\u001b[1;31mStaleElementReferenceException\u001b[0m: Message: The element reference of <input id=\"qty\" class=\"u-full-width radius-left\" name=\"qty\" type=\"number\"> is stale; either the element is no longer attached to the DOM, it is not in the current frame context, or the document has been refreshed; For documentation on this error, please visit: https://www.selenium.dev/documentation/webdriver/troubleshooting/errors#stale-element-reference-exception\nStacktrace:\nWebDriverError@chrome://remote/content/shared/webdriver/Errors.jsm:188:5\nStaleElementReferenceError@chrome://remote/content/shared/webdriver/Errors.jsm:469:5\nelement.resolveElement@chrome://remote/content/marionette/element.js:691:11\nevaluate.fromJSON@chrome://remote/content/marionette/evaluate.js:262:31\nevaluate.fromJSON@chrome://remote/content/marionette/evaluate.js:270:29\nreceiveMessage@chrome://remote/content/marionette/actors/MarionetteCommandsChild.jsm:81:34\n"
     ]
    }
   ],
   "source": [
    "link = 'https://www.onlineturf.co.uk/products/turf/budget'\n",
    "driver = webdriver.Firefox()\n",
    "driver.get(link)\n",
    "\n",
    "qty_input = driver.find_element(By.ID, \"qty\")\n",
    "postcode_input = driver.find_element(By.ID, \"postcode\")\n",
    "calculate_button = driver.find_element(By.CLASS_NAME, \"btn-primary\")\n",
    "\n",
    "budgetPrices = []\n",
    "\n",
    "for postcode in postcodes:\n",
    "    prices=[postcode[0]]\n",
    "    for qty in qtys:\n",
    "\n",
    "        qty_input.clear()\n",
    "        postcode_input.clear()\n",
    "\n",
    "        qty_input.send_keys(qty)\n",
    "        postcode_input.send_keys(postcode[1])\n",
    "\n",
    "        calculate_button.click()\n",
    "\n",
    "        time.sleep(0.5)\n",
    "\n",
    "        total = driver.find_element(By.XPATH, \"//td[@data-id='total']\")\n",
    "        prices.append(total.text)\n",
    "    budgetPrices.append(prices)\n",
    "driver.quit()\n",
    "print(tabulate(budgetPrices, headers=qtys))"
   ]
  },
  {
   "cell_type": "code",
   "execution_count": 23,
   "id": "dc75fff4",
   "metadata": {},
   "outputs": [
    {
     "name": "stdout",
     "output_type": "stream",
     "text": [
      "           10       50       100      500\n",
      "---------  -------  -------  -------  ---------\n",
      "Oundle     £92.42   £318.34  £563.64  £2,397.51\n",
      "Edinburgh  £113.58  £348.93  £617.16  £2,618.76\n"
     ]
    }
   ],
   "source": [
    "link = 'https://www.onlineturf.co.uk/products/turf/stadium'\n",
    "driver = webdriver.Firefox()\n",
    "driver.get(link)\n",
    "\n",
    "qty_input = driver.find_element(By.ID, \"qty\")\n",
    "postcode_input = driver.find_element(By.ID, \"postcode\")\n",
    "calculate_button = driver.find_element(By.CLASS_NAME, \"btn-primary\")\n",
    "\n",
    "stadiumPrices = []\n",
    "\n",
    "for postcode in postcodes:\n",
    "    prices=[postcode[0]]\n",
    "    for qty in qtys:\n",
    "\n",
    "        qty_input.clear()\n",
    "        postcode_input.clear()\n",
    "\n",
    "        qty_input.send_keys(qty)\n",
    "        postcode_input.send_keys(postcode[1])\n",
    "\n",
    "        calculate_button.click()\n",
    "\n",
    "        time.sleep(0.5)\n",
    "\n",
    "        total = driver.find_element(By.XPATH, \"//td[@data-id='total']\")\n",
    "        prices.append(total.text)\n",
    "    stadiumPrices.append(prices)\n",
    "driver.quit()\n",
    "print(tabulate(stadiumPrices, headers=qtys))"
   ]
  },
  {
   "cell_type": "code",
   "execution_count": 24,
   "id": "70acb0b7",
   "metadata": {},
   "outputs": [
    {
     "name": "stdout",
     "output_type": "stream",
     "text": [
      "           10       50       100      500\n",
      "---------  -------  -------  -------  ---------\n",
      "Oundle     £93.62   £324.34  £575.64  £2,457.51\n",
      "Edinburgh  £114.78  £354.93  £629.16  £2,678.76\n"
     ]
    }
   ],
   "source": [
    "link = 'https://www.onlineturf.co.uk/products/turf/rye-gold'\n",
    "driver = webdriver.Firefox()\n",
    "driver.get(link)\n",
    "\n",
    "qty_input = driver.find_element(By.ID, \"qty\")\n",
    "postcode_input = driver.find_element(By.ID, \"postcode\")\n",
    "calculate_button = driver.find_element(By.CLASS_NAME, \"btn-primary\")\n",
    "\n",
    "ryePrices = []\n",
    "\n",
    "for postcode in postcodes:\n",
    "    prices=[postcode[0]]\n",
    "    for qty in qtys:\n",
    "\n",
    "        qty_input.clear()\n",
    "        postcode_input.clear()\n",
    "\n",
    "        qty_input.send_keys(qty)\n",
    "        postcode_input.send_keys(postcode[1])\n",
    "\n",
    "        calculate_button.click()\n",
    "\n",
    "        time.sleep(0.5)\n",
    "\n",
    "        total = driver.find_element(By.XPATH, \"//td[@data-id='total']\")\n",
    "        prices.append(total.text)\n",
    "    ryePrices.append(prices)\n",
    "driver.quit()\n",
    "print(tabulate(ryePrices, headers=qtys))"
   ]
  },
  {
   "cell_type": "code",
   "execution_count": 53,
   "id": "45d689c4",
   "metadata": {},
   "outputs": [],
   "source": [
    "link = 'https://www.onlineturf.co.uk/products/turf/budget'\n",
    "link2 = 'https://www.onlineturf.co.uk/products/turf/rye-gold'\n",
    "driver = webdriver.Firefox()\n",
    "driver.get(link)\n",
    "time.sleep(3)\n",
    "driver.get(link2)"
   ]
  },
  {
   "cell_type": "code",
   "execution_count": null,
   "id": "4d922986",
   "metadata": {},
   "outputs": [],
   "source": []
  }
 ],
 "metadata": {
  "kernelspec": {
   "display_name": "Python 3",
   "language": "python",
   "name": "python3"
  },
  "language_info": {
   "codemirror_mode": {
    "name": "ipython",
    "version": 3
   },
   "file_extension": ".py",
   "mimetype": "text/x-python",
   "name": "python",
   "nbconvert_exporter": "python",
   "pygments_lexer": "ipython3",
   "version": "3.11.4"
  },
  "metadata": {
   "interpreter": {
    "hash": "852f50df9a6ad6ea6b656e59ed4d0d29a7072b9945fb48016396545673a9a0d4"
   }
  }
 },
 "nbformat": 4,
 "nbformat_minor": 5
}
